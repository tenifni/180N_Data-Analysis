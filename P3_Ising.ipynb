{
 "cells": [
  {
   "cell_type": "code",
   "execution_count": 184,
   "metadata": {
    "collapsed": true
   },
   "outputs": [],
   "source": [
    "import numpy as np\n",
    "import matplotlib as mpl\n",
    "import matplotlib.pyplot as plt\n",
    "import time\n",
    "# from scipy.optimize import curve_fit\n",
    "# from scipy.optimize import minimize\n",
    "from random import *\n",
    "\n",
    "\n",
    "%matplotlib inline"
   ]
  },
  {
   "cell_type": "code",
   "execution_count": 185,
   "metadata": {},
   "outputs": [
    {
     "data": {
      "text/plain": [
       "'\\ngloabl parameters\\n\\n@param N: number of sites\\n@param T: temperature\\n@param ts: number of time steps\\n'"
      ]
     },
     "execution_count": 185,
     "metadata": {},
     "output_type": "execute_result"
    }
   ],
   "source": [
    "'''\n",
    "gloabl parameters\n",
    "\n",
    "@param N: number of sites\n",
    "@param T: temperature\n",
    "@param ts: number of time steps\n",
    "'''\n"
   ]
  },
  {
   "cell_type": "code",
   "execution_count": 186,
   "metadata": {
    "collapsed": true
   },
   "outputs": [],
   "source": [
    "def init(N):\n",
    "    '''initialize lattice with random spins. No external field'''   \n",
    "    lattice = np.zeros([N,N]) # creates N x N matrix \n",
    "    for i in range(N):\n",
    "        for j in range (N):\n",
    "            random_prob = random() # start out with random probability for each site\n",
    "            if random_prob > 0.5:\n",
    "                lattice[i][j]=1 # spin up\n",
    "            elif random_prob < 0.5:\n",
    "                lattice[i][j] = -1 # spin down\n",
    "    # impose periodic boudnary conditions\n",
    "    lattice[:,N-1]= lattice[:,0] # last_col = first_col\n",
    "    lattice[N-1,:]= lattice [0,:] # last_raw =first_raw\n",
    "    return lattice\n",
    "                "
   ]
  },
  {
   "cell_type": "code",
   "execution_count": 187,
   "metadata": {},
   "outputs": [
    {
     "data": {
      "image/png": "[encoded data removed]",
      "text/plain": [
       "<matplotlib.figure.Figure at 0x11a0f6e80>"
      ]
     },
     "metadata": {},
     "output_type": "display_data"
    }
   ],
   "source": [
    "''' plot initial lattice with 2d color map '''\n",
    "# Ref: https://stackoverflow.com/questions/7229971/2d-grid-data-visualization-in-python\n",
    "\n",
    "\n",
    "N=50\n",
    "T=3\n",
    "lattice=init(N)\n",
    "\n",
    "cmap = mpl.colors.ListedColormap(['green', 'red']) # spin up= green; spin down = red \n",
    "bounds = [-N, -N, N, N]\n",
    "norm = mpl.colors.BoundaryNorm(bounds, cmap.N)\n",
    "\n",
    "img = plt.imshow(lattice, interpolation='none', cmap = cmap)\n",
    "plt.show()\n"
   ]
  },
  {
   "cell_type": "code",
   "execution_count": 188,
   "metadata": {
    "collapsed": true
   },
   "outputs": [],
   "source": [
    "def fixed(N):\n",
    "    '''initialize lattice with all spin up. No external field''' \n",
    "    lattice = np.zeros([N,N])\n",
    "    for i in range(N):\n",
    "        for j in range(N):\n",
    "            lattice[i][j]=1\n",
    "    # impose periodic boudnary conditions\n",
    "    lattice[:,N-1]= lattice[:,0] # last_col = first_col\n",
    "    lattice[N-1,:]= lattice [0,:] # last_raw =first_raw\n",
    "    return lattice       \n",
    "    "
   ]
  },
  {
   "cell_type": "code",
   "execution_count": 189,
   "metadata": {
    "collapsed": true
   },
   "outputs": [],
   "source": [
    "def metropolis(N, lattice, T):\n",
    "    '''\n",
    "    Move with Monte Carlo Metropolis algorithmn:\n",
    "    - Choose a random atom, and flip its spin. \n",
    "    - If energy cost of spin flipping <0, flip.\n",
    "    - If energy cost >0, flip with Boltzmann probability.\n",
    "    - Else, stay in old configuration.\n",
    "    ''' \n",
    "    for i in range (N):\n",
    "        for j in range (N):\n",
    "        # picks a random site [i,j]\n",
    "            i= randint(0,N-1)\n",
    "            j= randint(0,N-1)\n",
    "\n",
    "            # defines neighboring points\n",
    "            if i==0: # top row [0,j]\n",
    "                top_neighbor= lattice[N-1, j] # wrap edges, sets bottom row to be upper neighbor of the top-most row\n",
    "            else:\n",
    "                top_neighbor= lattice[i-1][j]\n",
    "            if i==N-1: # bottom row [N-1, j]\n",
    "                bottom_neighbor= lattice[0, j] # sets top row to be lower neighbor of the bottom row\n",
    "            else:\n",
    "                bottom_neighbor= lattice[i+1][j]\n",
    "            if j ==0: # first coloum [i,0]\n",
    "                left_neighbor= lattice[i, N-1] # sets last coln to be left neighbor of the first coln\n",
    "            else:\n",
    "                left_neighbor= lattice[i, j-1]\n",
    "            if j==N-1: # last coln [i,N-1]\n",
    "                 right_neighbor= lattice[i, 0] # sets first coln to be right neighbor of last coln\n",
    "            else:\n",
    "                right_neighbor= lattice[i][j+1]\n",
    "            # computes energy change inccured from flipping the spin of this site\n",
    "            energy_cost= 2* lattice[i][j]* (top_neighbor+ bottom_neighbor + left_neighbor + right_neighbor)\n",
    "\n",
    "        # accepts or rejects spin flip\n",
    "    #     if energy_cost <= 0:\n",
    "    #         lattice[i][j]= -lattice[i][j]\n",
    "    #     el\n",
    "            if random() < np.exp(-energy_cost/T): # accepts with Boltzmann probability\n",
    "                lattice[i][j]= -lattice[i][j]\n",
    "        # else, remain the same.\n",
    "    return lattice\n"
   ]
  },
  {
   "cell_type": "code",
   "execution_count": 191,
   "metadata": {},
   "outputs": [
    {
     "data": {
      "image/png": "[encoded data removed]",
      "text/plain": [
       "<matplotlib.figure.Figure at 0x117c81a58>"
      ]
     },
     "metadata": {},
     "output_type": "display_data"
    }
   ],
   "source": [
    "''' iterate Metropolis many times '''\n",
    "\n",
    "N= 30\n",
    "T= 4\n",
    "lattice = init(N)\n",
    "\n",
    "itera=3500\n",
    "\n",
    "for i in range (itera):\n",
    "    lattice = metropolis(N,lattice, T)\n",
    "\n",
    "cmap = mpl.colors.ListedColormap(['green', 'red']) # spin up= green; spin down = red \n",
    "bounds = [-N, -N, N, N]\n",
    "norm = mpl.colors.BoundaryNorm(bounds, cmap.N)\n",
    "img = plt.imshow(lattice, interpolation='none', cmap = cmap)\n",
    "\n",
    "plt.show()   \n"
   ]
  },
  {
   "cell_type": "markdown",
   "metadata": {},
   "source": [
    "### Mean internal energy $U= \\frac{\\langle E \\rangle}{N}$\n",
    "\n",
    "### Magnetization $M = \\frac{\\langle S \\rangle}{N}$\n",
    "\n",
    "### Magnetic susceptibility $\\chi_T =\\frac{\\langle S^2 \\rangle - {\\langle S \\rangle}^2 }{NT}$\n",
    "\n",
    "### Speficifc heat $C_{H}= \\frac{\\langle E^2 \\rangle - {\\langle E\\rangle}^2 }{NT^2}$"
   ]
  },
  {
   "cell_type": "code",
   "execution_count": 192,
   "metadata": {
    "collapsed": true
   },
   "outputs": [],
   "source": [
    "''' define how to compute ensemble quantities: internal energy, magnetization, specific heat, and magnetic susceptibility.'''\n",
    "\n",
    "def internal_energy(N, lattice):\n",
    "    '''\n",
    "    Energy of system w/o external field: E= ΣS_i*S_j over all neighbor pairs.\n",
    "    Total internal energy: <E>\n",
    "    ''' \n",
    "    E = 0 \n",
    "    for i in range (1, N):\n",
    "        for j in range (1, N): \n",
    "            # defines neighboring points\n",
    "            if i==0: # top row [0,j]\n",
    "                top_neighbor= lattice[N-1, j] # wrap edges, sets bottom row to be upper neighbor of the top-most row\n",
    "            else:\n",
    "                top_neighbor= lattice[i-1][j]\n",
    "            if i==N-1: # bottom row [N-1, j]\n",
    "                bottom_neighbor= lattice[0, j] # sets top row to be lower neighbor of the bottom row\n",
    "            else:\n",
    "                bottom_neighbor= lattice[i+1][j]\n",
    "            if j ==0: # first coloum [i,0]\n",
    "                left_neighbor= lattice[i, N-1] # sets last coln to be left neighbor of the first coln\n",
    "            else:\n",
    "                left_neighbor= lattice[i, j-1]\n",
    "            if j==N-1: # last coln [i,N-1]\n",
    "                 right_neighbor= lattice[i, 0] # sets first coln to be right neighbor of last coln\n",
    "            else:\n",
    "                right_neighbor= lattice[i][j+1]\n",
    "                \n",
    "            neighbors= top_neighbor+ bottom_neighbor + right_neighbor +left_neighbor\n",
    "            # computes coupling energy between each pair\n",
    "            E += -lattice[i][j] * neighbors\n",
    "    return E\n",
    "\n",
    "def magnet(lattice):\n",
    "    ''' Magnetization: <S> '''\n",
    "    return np.sum(lattice)   # sums all elements in this 2d array\n"
   ]
  },
  {
   "cell_type": "code",
   "execution_count": 193,
   "metadata": {},
   "outputs": [
    {
     "name": "stdout",
     "output_type": "stream",
     "text": [
      "-980.0\n",
      "-10.0\n"
     ]
    }
   ],
   "source": [
    "print(internal_energy(N, lattice))\n",
    "print(magnet(lattice))"
   ]
  },
  {
   "cell_type": "code",
   "execution_count": 231,
   "metadata": {},
   "outputs": [
    {
     "data": {
      "image/png": "[encoded data removed]",
      "text/plain": [
       "<matplotlib.figure.Figure at 0x117dd73c8>"
      ]
     },
     "metadata": {},
     "output_type": "display_data"
    },
    {
     "data": {
      "image/png": "[encoded data removed]",
      "text/plain": [
       "<matplotlib.figure.Figure at 0x118dc1160>"
      ]
     },
     "metadata": {},
     "output_type": "display_data"
    },
    {
     "data": {
      "image/png": "[encoded data removed]",
      "text/plain": [
       "<matplotlib.figure.Figure at 0x117c81be0>"
      ]
     },
     "metadata": {},
     "output_type": "display_data"
    },
    {
     "data": {
      "image/png": "[encoded data removed]",
      "text/plain": [
       "<matplotlib.figure.Figure at 0x118d5ccc0>"
      ]
     },
     "metadata": {},
     "output_type": "display_data"
    }
   ],
   "source": [
    "N=30\n",
    "sampling_iter = 1000 # number of iterations used to compute averges of quantities\n",
    "\n",
    "tempteps = 30 # number of temperature sampling points\n",
    "temp= np.linspace(5, 0.5, tempteps) # starts from high temp to low (REMEMBER not to include 0 otherwise we have division of 0 in boltzmann factor.)\n",
    "\n",
    "# all the ensemble qualities we want to compute (the averages).\n",
    "energy = []\n",
    "mag = []\n",
    "sus = []\n",
    "specificheat = []\n",
    "\n",
    "for t in temp:\n",
    "    '''iterate through each temperature'''\n",
    "    lattice =init(N) # initializes the lattice\n",
    "    \n",
    "    E = 0 # initializes energy\n",
    "    S = 0 # initializes spin\n",
    "    E_square = 0\n",
    "    S_square = 0\n",
    "    \n",
    "    \n",
    "    for i in range (2000): \n",
    "        '''iterate many times for system to reach equilibrium state'''\n",
    "        metropolis(N,lattice, t) \n",
    "\n",
    "    for j in range (sampling_iter):\n",
    "        '''iterate to compute averages of quantities'''\n",
    "        metropolis (N,lattice,t)\n",
    "        \n",
    "        E += internal_energy(N, lattice)\n",
    "        S += magnet(lattice)\n",
    "        \n",
    "        E_square += internal_energy(N, lattice)*internal_energy(N, lattice)\n",
    "        S_square += magnet(lattice)*magnet(lattice)\n",
    "\n",
    "    ''' \n",
    "    Mean internal energy: U= <E>/N^2\n",
    "    Mean magnetization: M=<S>/N^2\n",
    "    Susceptibility: X= (<S^2> - <S>^2)/NT\n",
    "    Specific heat: X= (<E^2> - <E>^2)/NT^2\n",
    "    '''\n",
    "    energy.append(E/(sampling_iter*N**2)) # average of energy E/N^2\n",
    "    mag.append( abs(S/(sampling_iter*N**2)) ) # average of spin S/N\n",
    "    sus.append( ( S_square/sampling_iter - (S/sampling_iter)**2 )/(N*t) )\n",
    "    specificheat.append( ( E_square/sampling_iter - (E/sampling_iter)**2 ) /(N*t**2) )\n",
    "\n",
    "fig1=plt.figure()   \n",
    "plt.plot(temp, energy,'ro')\n",
    "plt.xlabel('Temperature (T)')\n",
    "plt.ylabel('Mean Internal Energy (U)')\n",
    "plt.grid()\n",
    "\n",
    "fig2=plt.figure()   \n",
    "plt.plot(temp, mag,'ro')\n",
    "plt.xlabel('Temperature (T)')\n",
    "plt.ylabel('Mean Magnetization (M)')\n",
    "plt.grid()\n",
    "\n",
    "fig3=plt.figure()    \n",
    "plt.plot(temp, sus,'ro')\n",
    "plt.xlabel('Temperature (T)')\n",
    "plt.ylabel('Susceptibility ($\\chi_T$)')\n",
    "plt.grid()\n",
    "\n",
    "fig4=plt.figure()  \n",
    "plt.plot(temp, specificheat,'ro')\n",
    "plt.xlabel('Temperature')\n",
    "plt.ylabel('Speficic Heat ($C_H$)')\n",
    "plt.grid()\n",
    "plt.show()\n"
   ]
  },
  {
   "cell_type": "markdown",
   "metadata": {},
   "source": [
    "Onsager $[1-\\sinh^{-4}(2/T)]^{1/8}$ for $T<T_c$"
   ]
  },
  {
   "cell_type": "code",
   "execution_count": 208,
   "metadata": {
    "collapsed": true
   },
   "outputs": [],
   "source": [
    "def onsager(T):\n",
    "    if T < 2.2692:\n",
    "        return (1 - (np.sinh(2/T))**(-4))**(1/8)\n",
    "    else:\n",
    "        return 0\n"
   ]
  },
  {
   "cell_type": "code",
   "execution_count": 239,
   "metadata": {},
   "outputs": [
    {
     "data": {
      "text/plain": [
       "<function matplotlib.pyplot.show>"
      ]
     },
     "execution_count": 239,
     "metadata": {},
     "output_type": "execute_result"
    },
    {
     "data": {
      "image/png": "[encoded data removed]",
      "text/plain": [
       "<matplotlib.figure.Figure at 0x11a5c2a90>"
      ]
     },
     "metadata": {},
     "output_type": "display_data"
    }
   ],
   "source": [
    "ons=[]\n",
    "tempteps = 30 # number of temperature sampling points\n",
    "temp= np.linspace(5, 0.5, tempteps) # starts from high temp to low (REMEMBER not to include 0 otherwise we have division of 0 in boltzmann factor.)\n",
    "\n",
    "for t in temp:\n",
    "    ons.append(onsager(t))\n",
    "    \n",
    "    \n",
    "plt.plot(temp, ons, 'g-', label='Onsager exact solution')\n",
    "plt.plot(temp, mag,'r-', label='Metropolis-Hastings')\n",
    "plt.xlabel('Temperature (T)')\n",
    "plt.ylabel('Mean Magnetization (M)')\n",
    "plt.legend()\n",
    "plt.grid()\n",
    "plt.show"
   ]
  },
  {
   "cell_type": "code",
   "execution_count": 241,
   "metadata": {},
   "outputs": [
    {
     "name": "stdout",
     "output_type": "stream",
     "text": [
      "30\n"
     ]
    }
   ],
   "source": [
    "temp= np.linspace(0.5, 5, 30)\n",
    "\n",
    "print(len(temp))"
   ]
  },
  {
   "cell_type": "code",
   "execution_count": null,
   "metadata": {
    "collapsed": true
   },
   "outputs": [],
   "source": [
    "# iterate 4000 times for it to equilibrate. Last 1000 times, compute averages of quantities"
   ]
  }
 ],
 "metadata": {
  "kernelspec": {
   "display_name": "Python 2",
   "language": "python",
   "name": "python2"
  },
  "language_info": {
   "codemirror_mode": {
    "name": "ipython",
    "version": 2
   },
   "file_extension": ".py",
   "mimetype": "text/x-python",
   "name": "python",
   "nbconvert_exporter": "python",
   "pygments_lexer": "ipython2",
   "version": "2.7.14"
  }
 },
 "nbformat": 4,
 "nbformat_minor": 2
}
